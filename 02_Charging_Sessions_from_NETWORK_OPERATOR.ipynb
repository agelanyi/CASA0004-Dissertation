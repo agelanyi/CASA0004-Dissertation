{
 "cells": [
  {
   "cell_type": "markdown",
   "metadata": {},
   "source": [
    "# A Python Notebook for loading Charging Session data from a network operator\n",
    "\n",
    "Note: We are relying on datafiles that are not publicly available."
   ]
  },
  {
   "cell_type": "code",
   "execution_count": 1,
   "metadata": {},
   "outputs": [],
   "source": [
    "# Using pathlib for proper path management\n",
    "from pathlib import Path\n",
    "\n",
    "# Optimised data storage\n",
    "import pyarrow.feather as feather\n",
    "\n",
    "# Data manipulation\n",
    "import pandas as pd\n",
    "import geopandas as gpd\n",
    "import numpy as np\n",
    "\n",
    "# Data visualization\n",
    "import seaborn as sns\n",
    "import matplotlib.pyplot as plt\n",
    "import plotly.express as px\n",
    "\n",
    "# Regressions, stats and clustering\n",
    "from sklearn.cluster import KMeans"
   ]
  },
  {
   "cell_type": "markdown",
   "metadata": {},
   "source": [
    "### Charging sessions: Internal users\n",
    "Dealing with Charging session data: loading, joining and persisting using Arrow"
   ]
  },
  {
   "cell_type": "code",
   "execution_count": 2,
   "metadata": {},
   "outputs": [],
   "source": [
    "# Loading the data, joining service records and saving as feather\n",
    "# This block need to be executed only once\n",
    "\n",
    "# Note: we need openpyxl to read excel files\n",
    "bbs = pd.read_excel(\n",
    "    Path.joinpath(\n",
    "        Path.cwd(), \"data\", \"NETWORK_OPERATOR\", \"Charging sessions (BBS).xlsx\"\n",
    "    )\n",
    ")\n",
    "bbs_service_records = pd.read_excel(\n",
    "    Path.joinpath(\n",
    "        Path.cwd(),\n",
    "        \"data\",\n",
    "        \"NETWORK_OPERATOR\",\n",
    "        \"Charging sessions - Service Records (BBS).xlsx\",\n",
    "    )\n",
    ")\n",
    "bbs_joined = bbs.join(\n",
    "    bbs_service_records.set_index(\"id\"), on=\"servicerecord_ptr_id\", how=\"inner\"\n",
    ")\n",
    "\n",
    "feather.write_feather(\n",
    "    bbs_joined,\n",
    "    Path.joinpath(\n",
    "        Path.cwd(),\n",
    "        \"data\",\n",
    "        \"NETWORK_OPERATOR\",\n",
    "        \"Charging sessions and service records (BBS).feather\",\n",
    "    ),\n",
    ")"
   ]
  },
  {
   "cell_type": "code",
   "execution_count": 3,
   "metadata": {},
   "outputs": [
    {
     "name": "stdout",
     "output_type": "stream",
     "text": [
      "<class 'pandas.core.frame.DataFrame'>\n",
      "Index: 52692 entries, 0 to 52691\n",
      "Data columns (total 28 columns):\n",
      " #   Column                Non-Null Count  Dtype         \n",
      "---  ------                --------------  -----         \n",
      " 0   zip code              52580 non-null  object        \n",
      " 1   town                  52580 non-null  object        \n",
      " 2   country               52692 non-null  object        \n",
      " 3   latitude              41130 non-null  float64       \n",
      " 4   longitude             41130 non-null  float64       \n",
      " 5   evse_id               52692 non-null  object        \n",
      " 6   connector_type        52015 non-null  object        \n",
      " 7   end_time              52692 non-null  datetime64[ns]\n",
      " 8   kWh                   52692 non-null  float64       \n",
      " 9   operator_name         52630 non-null  object        \n",
      " 10  power_type            52588 non-null  object        \n",
      " 11  remuneration_type     52692 non-null  object        \n",
      " 12  servicerecord_ptr_id  52692 non-null  int64         \n",
      " 13  user_tariff_fixed     52692 non-null  float64       \n",
      " 14  user_tariff_energy    52692 non-null  float64       \n",
      " 15  user_tariff_hourly    52692 non-null  float64       \n",
      " 16  user_price_fixed      52692 non-null  float64       \n",
      " 17  user_price_energy     52692 non-null  float64       \n",
      " 18  user_price_hourly     52692 non-null  float64       \n",
      " 19  ext_id                52692 non-null  object        \n",
      " 20  currency              52692 non-null  object        \n",
      " 21  price                 52692 non-null  float64       \n",
      " 22  start_time            52692 non-null  datetime64[ns]\n",
      " 23  subscription_id       52692 non-null  int64         \n",
      " 24  tokeninfo_id          52537 non-null  float64       \n",
      " 25  vat                   52692 non-null  int64         \n",
      " 26  vat_country           52692 non-null  object        \n",
      " 27  internal_user         52692 non-null  bool          \n",
      "dtypes: bool(1), datetime64[ns](2), float64(11), int64(3), object(11)\n",
      "memory usage: 11.3+ MB\n"
     ]
    }
   ],
   "source": [
    "# Let's load the feather file\n",
    "internal_users = feather.read_feather(\n",
    "    Path.joinpath(\n",
    "        Path.cwd(),\n",
    "        \"data\",\n",
    "        \"NETWORK_OPERATOR\",\n",
    "        \"Charging sessions and service records (BBS).feather\",\n",
    "    )\n",
    ")\n",
    "internal_users[\"internal_user\"] = True\n",
    "internal_users.info()"
   ]
  },
  {
   "cell_type": "markdown",
   "metadata": {},
   "source": [
    "Performing spatial clipping with high-resolution Belgium boundary\n",
    "\n",
    "Saving the result as a feather document"
   ]
  },
  {
   "cell_type": "code",
   "execution_count": 4,
   "metadata": {},
   "outputs": [
    {
     "name": "stdout",
     "output_type": "stream",
     "text": [
      "(52692, 29)\n",
      "(39256, 29)\n"
     ]
    }
   ],
   "source": [
    "# Getting our boundary\n",
    "belgium_gdf = gpd.read_file(\n",
    "    Path.joinpath(\n",
    "        Path.cwd(),\n",
    "        \"data\",\n",
    "        \"EUROSTAT-ref-countries-2020-01m-shp\",\n",
    "        \"CNTR_RG_01M_2020_4326\",\n",
    "        \"CNTR_RG_01M_2020_4326.shp\",\n",
    "    )\n",
    ")\n",
    "\n",
    "# Making sure that the CRS and projection are okay\n",
    "belgium_gdf = belgium_gdf.to_crs(\"EPSG:4326\")\n",
    "# We need only Belgium from the dataset\n",
    "belgium_gdf = belgium_gdf[belgium_gdf[\"CNTR_ID\"] == \"BE\"]\n",
    "\n",
    "# Constructing a geodataframe from the internal users dataframe\n",
    "internal_users_gdf = gpd.GeoDataFrame(\n",
    "    data=internal_users,\n",
    "    geometry=gpd.points_from_xy(internal_users.longitude, internal_users.latitude),\n",
    "    crs=\"EPSG:4326\",\n",
    ")\n",
    "\n",
    "# Let's check the shape of the geodataframe before clipping\n",
    "print(internal_users_gdf.shape)\n",
    "\n",
    "# Clipping with the border shape\n",
    "internal_users_gdf = internal_users_gdf.clip(belgium_gdf)\n",
    "\n",
    "# After clipping as well\n",
    "print(internal_users_gdf.shape)\n",
    "\n",
    "# Saving the clipped geodataframe as feather\n",
    "feather.write_feather(\n",
    "    pd.DataFrame(internal_users_gdf.drop(columns=\"geometry\")),\n",
    "    Path.joinpath(\n",
    "        Path.cwd(),\n",
    "        \"data\",\n",
    "        \"NETWORK_OPERATOR\",\n",
    "        \"Charging sessions and service records (BBS) BE only.feather\",\n",
    "    ),\n",
    ")"
   ]
  },
  {
   "cell_type": "code",
   "execution_count": 5,
   "metadata": {},
   "outputs": [],
   "source": [
    "# A quick look at the dataframe\n",
    "# internal_users.sample(5)"
   ]
  },
  {
   "cell_type": "markdown",
   "metadata": {},
   "source": [
    "### Charging sessions: External users\n",
    "\n",
    "Charging sessions of other users (using a non-network charging card) are listed in another dataset.\n",
    "\n",
    "Loading, joining and persisting using Arrow"
   ]
  },
  {
   "cell_type": "code",
   "execution_count": 6,
   "metadata": {},
   "outputs": [],
   "source": [
    "# Note: we need openpyxl to read excel files\n",
    "abs = pd.read_excel(\n",
    "    Path.joinpath(\n",
    "        Path.cwd(), \"data\", \"NETWORK_OPERATOR\", \"Charging sessions (ABS).xlsx\"\n",
    "    )\n",
    ")\n",
    "\n",
    "feather.write_feather(\n",
    "    abs,\n",
    "    Path.joinpath(\n",
    "        Path.cwd(), \"data\", \"NETWORK_OPERATOR\", \"Charging sessions (ABS).feather\"\n",
    "    ),\n",
    ")"
   ]
  },
  {
   "cell_type": "code",
   "execution_count": 7,
   "metadata": {},
   "outputs": [
    {
     "name": "stdout",
     "output_type": "stream",
     "text": [
      "<class 'pandas.core.frame.DataFrame'>\n",
      "RangeIndex: 130195 entries, 0 to 130194\n",
      "Data columns (total 21 columns):\n",
      " #   Column                 Non-Null Count   Dtype         \n",
      "---  ------                 --------------   -----         \n",
      " 0   id                     130195 non-null  int64         \n",
      " 1   zip code               130147 non-null  object        \n",
      " 2   town                   130147 non-null  object        \n",
      " 3   country                130195 non-null  object        \n",
      " 4   latitude               130195 non-null  float64       \n",
      " 5   longitude              130195 non-null  float64       \n",
      " 6   evse_id                130195 non-null  int64         \n",
      " 7   connector_type         130195 non-null  object        \n",
      " 8   time_started_session   130195 non-null  datetime64[ns]\n",
      " 9   time_stopped_session   130195 non-null  datetime64[ns]\n",
      " 10  start_kilo_watt_hour   130195 non-null  float64       \n",
      " 11  final_kilo_watt_hour   130195 non-null  float64       \n",
      " 12  remuneration_type      130195 non-null  object        \n",
      " 13  operator_price_start   130195 non-null  float64       \n",
      " 14  operator_price_energy  130195 non-null  float64       \n",
      " 15  operator_price_hourly  130195 non-null  float64       \n",
      " 16  tokeninfo_id           130019 non-null  float64       \n",
      " 17  vat                    35123 non-null   float64       \n",
      " 18  restricted_area        130195 non-null  bool          \n",
      " 19  published              130195 non-null  bool          \n",
      " 20  operator               130195 non-null  object        \n",
      "dtypes: bool(2), datetime64[ns](2), float64(9), int64(2), object(6)\n",
      "memory usage: 19.1+ MB\n"
     ]
    }
   ],
   "source": [
    "external_users = feather.read_feather(\n",
    "    Path.joinpath(\n",
    "        Path.cwd(), \"data\", \"NETWORK_OPERATOR\", \"Charging sessions (ABS).feather\"\n",
    "    )\n",
    ")\n",
    "external_users.info()"
   ]
  },
  {
   "cell_type": "code",
   "execution_count": 8,
   "metadata": {},
   "outputs": [
    {
     "name": "stdout",
     "output_type": "stream",
     "text": [
      "(130195, 22)\n",
      "(129494, 22)\n"
     ]
    }
   ],
   "source": [
    "# Getting our boundary\n",
    "belgium_gdf = gpd.read_file(\n",
    "    Path.joinpath(\n",
    "        Path.cwd(),\n",
    "        \"data\",\n",
    "        \"EUROSTAT-ref-countries-2020-01m-shp\",\n",
    "        \"CNTR_RG_01M_2020_4326\",\n",
    "        \"CNTR_RG_01M_2020_4326.shp\",\n",
    "    )\n",
    ")\n",
    "\n",
    "# Making sure that the CRS and projection are okay\n",
    "belgium_gdf = belgium_gdf.to_crs(\"EPSG:4326\")\n",
    "# We need only Belgium from the dataset\n",
    "belgium_gdf = belgium_gdf[belgium_gdf[\"CNTR_ID\"] == \"BE\"]\n",
    "\n",
    "# Constructing a geodataframe from the external users dataframe\n",
    "external_users_gdf = gpd.GeoDataFrame(\n",
    "    data=external_users,\n",
    "    geometry=gpd.points_from_xy(external_users.longitude, external_users.latitude),\n",
    "    crs=\"EPSG:4326\",\n",
    ")\n",
    "\n",
    "# Let's check the shape of the geodataframe before clipping\n",
    "print(external_users_gdf.shape)\n",
    "\n",
    "# Clipping with the border shape\n",
    "external_users_gdf = external_users_gdf.clip(belgium_gdf)\n",
    "\n",
    "# After clipping as well\n",
    "print(external_users_gdf.shape)\n",
    "\n",
    "# Saving the clipped geodataframe as feather\n",
    "feather.write_feather(\n",
    "    pd.DataFrame(external_users_gdf.drop(columns=\"geometry\")),\n",
    "    Path.joinpath(\n",
    "        Path.cwd(),\n",
    "        \"data\",\n",
    "        \"NETWORK_OPERATOR\",\n",
    "        \"Charging sessions (ABS) BE only.feather\",\n",
    "    ),\n",
    ")"
   ]
  }
 ],
 "metadata": {
  "kernelspec": {
   "display_name": "EV",
   "language": "python",
   "name": "python3"
  },
  "language_info": {
   "codemirror_mode": {
    "name": "ipython",
    "version": 3
   },
   "file_extension": ".py",
   "mimetype": "text/x-python",
   "name": "python",
   "nbconvert_exporter": "python",
   "pygments_lexer": "ipython3",
   "version": "3.11.5"
  },
  "orig_nbformat": 4
 },
 "nbformat": 4,
 "nbformat_minor": 2
}
